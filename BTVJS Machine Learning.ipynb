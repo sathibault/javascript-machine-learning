{
 "cells": [
  {
   "cell_type": "markdown",
   "metadata": {
    "slideshow": {
     "slide_type": "slide"
    }
   },
   "source": [
    "<img src=\"files/page.png?v=1\" style=\"float: left; display: inline;\"/>\n",
    "\n",
    "# Machine Learning for Javascript Developers\n",
    "\n",
    "## Why Javascript?\n",
    "\n",
    "## Agenda\n",
    "\n",
    "* Define AI, machine learning\n",
    "* Two classic machine learning algorithms\n",
    "* Neural networks\n",
    "\n",
    "## Objectives\n",
    "\n",
    "* Understand what machine learning is\n",
    "* Become familar with the vocabulary\n",
    "* Gain some intuition into how it works\n",
    "\n",
    "Learning more:\n",
    "\n",
    "<img src=\"https://cdn-images-1.medium.com/max/1600/1*ErQpF8e8pDOZSlxZBDdt_Q.png\" width=\"100\" align=\"top\" style=\"display: inline;\"></img>\n",
    "[Stanford Machine Learning](https://www.coursera.org/learn/machine-learning)\n",
    "\n",
    "## Materials\n",
    "\n",
    "All content on github: [https://github.com/sathibault/javascript-machine-learning](https://github.com/sathibault/javascript-machine-learning)"
   ]
  },
  {
   "cell_type": "markdown",
   "metadata": {},
   "source": [
    "<img src=\"files/page.png?v=1\" style=\"float: left; display: inline;\"/>\n",
    "\n",
    "## Artificial Intelligence\n",
    "\n",
    "> _\"... successfully perform any intellectual task that a human being can.”_ - Wikipedia\n",
    "\n",
    "Subfields of AI:\n",
    "- searching and planning (e.g. playing a game with possible actions)\n",
    "- reasoning and knowledge representation (structuring knowledge to come to conclusions)\n",
    "- perception (vision, touch, hearing)\n",
    "- ability to move and manipulate objects (goes into robotics)\n",
    "- natural language processing (NLP)\n",
    "- learning"
   ]
  },
  {
   "cell_type": "markdown",
   "metadata": {},
   "source": [
    "<img src=\"files/page.png?v=1\" style=\"float: left; display: inline;\"/>\n",
    "\n",
    "# Learning Types\n",
    "\n",
    "- Supervised learning\n",
    "- Unsupervised learning\n",
    "- Reinforcement learning"
   ]
  },
  {
   "cell_type": "markdown",
   "metadata": {},
   "source": [
    "<img src=\"files/page.png?v=1\" style=\"float: left; display: inline;\"/>\n",
    "\n",
    "## Supervised Learning\n",
    "\n",
    "Learn a function from some input to some output given a set of examples of input/output pairs.\n",
    "\n",
    "![Function](https://upload.wikimedia.org/wikipedia/commons/thumb/3/3b/Function_machine2.svg/220px-Function_machine2.svg.png)\n",
    "\n",
    "### Function representations\n",
    "\n",
    "#### Sets\n",
    "```\n",
    "{(1,1), (3, 1), (9, 5), ...}\n",
    "```\n",
    "\n",
    "#### Diagram\n",
    "<img src=\"https://upload.wikimedia.org/wikipedia/commons/thumb/b/bd/Injection_keine_Injektion_1.svg/440px-Injection_keine_Injektion_1.svg.png\" width=\"100\" style=\"display: inline;\"/>\n",
    "\n",
    "#### Function rule\n",
    "$f(x) = e^{x} + 1$\n",
    "\n",
    "#### Program\n",
    "```javascript\n",
    "(x) => (x > 0) ? 10 : -10\n",
    "```"
   ]
  },
  {
   "cell_type": "code",
   "execution_count": null,
   "metadata": {},
   "outputs": [],
   "source": []
  }
 ],
 "metadata": {
  "kernelspec": {
   "display_name": "Javascript (Node.js)",
   "language": "javascript",
   "name": "javascript"
  },
  "language_info": {
   "file_extension": ".js",
   "mimetype": "application/javascript",
   "name": "javascript",
   "version": "8.12.0"
  }
 },
 "nbformat": 4,
 "nbformat_minor": 2
}
